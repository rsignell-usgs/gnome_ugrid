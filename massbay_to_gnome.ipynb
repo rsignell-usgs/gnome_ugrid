{
 "metadata": {
  "name": "massbay_to_gnome"
 },
 "nbformat": 3,
 "nbformat_minor": 0,
 "worksheets": [
  {
   "cells": [
    {
     "cell_type": "code",
     "collapsed": false,
     "input": "import utools\nimport netCDF4\nimport datetime as dt",
     "language": "python",
     "metadata": {},
     "outputs": [],
     "prompt_number": 1
    },
    {
     "cell_type": "code",
     "collapsed": false,
     "input": "data_url = 'http://www.smast.umassd.edu:8080/thredds/dodsC/fvcom/archives/necofs_mb'\nbndry_file = 'MassB.bry'\n\nnc = netCDF4.Dataset(data_url)\nnc.variables.keys()",
     "language": "python",
     "metadata": {},
     "outputs": [
      {
       "metadata": {},
       "output_type": "pyout",
       "prompt_number": 2,
       "text": "[u'nprocs',\n u'partition',\n u'x',\n u'y',\n u'lon',\n u'lat',\n u'xc',\n u'yc',\n u'lonc',\n u'latc',\n u'siglay',\n u'siglev',\n u'h',\n u'nv',\n u'nbe',\n u'ntsn',\n u'nbsn',\n u'ntve',\n u'nbve',\n u'a1u',\n u'a2u',\n u'aw0',\n u'awx',\n u'awy',\n u'art2',\n u'art1',\n u'iint',\n u'time',\n u'Itime',\n u'Itime2',\n u'Times',\n u'zeta',\n u'file_date',\n u'u',\n u'v',\n u'omega',\n u'ww',\n u'ua',\n u'va',\n u'temp',\n u'salinity',\n u'km',\n u'kh',\n u'kq',\n u'q2',\n u'q2l',\n u'l',\n u'wet_nodes',\n u'wet_cells',\n u'wet_nodes_prev_int',\n u'wet_cells_prev_int',\n u'wet_cells_prev_ext']"
      }
     ],
     "prompt_number": 2
    },
    {
     "cell_type": "code",
     "collapsed": false,
     "input": "time_var = nc.variables['time']\ndtime = netCDF4.num2date(time_var[:],time_var.units)\nstart = dt.datetime(2011,4,13,6,0,0)\nstop = dt.datetime(2011,4,14,6,0,0)\nistart = netCDF4.date2index(start,time_var,select='nearest')\nistop = netCDF4.date2index(stop,time_var,select='nearest')\nprint istart,istop",
     "language": "python",
     "metadata": {},
     "outputs": [
      {
       "output_type": "stream",
       "stream": "stdout",
       "text": "2046 2070\n"
      }
     ],
     "prompt_number": 3
    },
    {
     "cell_type": "code",
     "collapsed": false,
     "input": "u = nc.variables['ua']",
     "language": "python",
     "metadata": {},
     "outputs": [],
     "prompt_number": 4
    },
    {
     "cell_type": "code",
     "collapsed": false,
     "input": "shape(u)",
     "language": "python",
     "metadata": {},
     "outputs": [
      {
       "metadata": {},
       "output_type": "pyout",
       "prompt_number": 5,
       "text": "(8352, 165095)"
      }
     ],
     "prompt_number": 5
    },
    {
     "cell_type": "code",
     "collapsed": false,
     "input": "#I use a mapping of FVCOM variable names to common names so that the class methods can also\n#work with SELFE and ADCIRC which have different var names\n#This seemed easier than finding them by CF long_names etc\nvar_map = { 'longitude':'lon', \\\n            'latitude':'lat', \\\n            'time':'time', \\\n            'u_velocity':'ua', \\\n            'v_velocity':'va', \\\n            'nodes_surrounding_ele':'nv',\\\n            'eles_surrounding_ele':'nbe',\\\n          }  \n\nnecofs = utools.ugrid(data_url)",
     "language": "python",
     "metadata": {},
     "outputs": [],
     "prompt_number": 6
    },
    {
     "cell_type": "code",
     "collapsed": false,
     "input": "print 'Downloading data'\nnecofs.get_data(var_map,tindex=[istart,istop,1]) # get all time steps in range\n#necofs.get_data(var_map) #All time steps in file",
     "language": "python",
     "metadata": {},
     "outputs": [
      {
       "output_type": "stream",
       "stream": "stdout",
       "text": "Downloading data\n"
      }
     ],
     "prompt_number": 7
    },
    {
     "cell_type": "code",
     "collapsed": false,
     "input": "necofs.adjust_time() #GNOME can't handle pre 1980 start dates (in units)",
     "language": "python",
     "metadata": {},
     "outputs": [],
     "prompt_number": 8
    },
    {
     "cell_type": "code",
     "collapsed": false,
     "input": "necofs.get_bndry(bndry_file) \n#This file was pre-generated for this grid (somewhat manually as open water/land boundaries\n#are not specified in the model output",
     "language": "python",
     "metadata": {},
     "outputs": [],
     "prompt_number": 9
    },
    {
     "cell_type": "code",
     "collapsed": false,
     "input": "necofs.atts['nbe']['order'] = 'cw'\n#GNOME needs to know whether the elements are ordered clockwise (FVCOM) or counter-clockwise (SELFE)",
     "language": "python",
     "metadata": {},
     "outputs": [],
     "prompt_number": 10
    },
    {
     "cell_type": "code",
     "collapsed": false,
     "input": "print 'Writing to GNOME file'\nnecofs.write_unstruc_grid('MassBay_depave.nc')",
     "language": "python",
     "metadata": {},
     "outputs": [
      {
       "output_type": "stream",
       "stream": "stdout",
       "text": "Writing to GNOME file\n"
      }
     ],
     "prompt_number": 11
    },
    {
     "cell_type": "code",
     "collapsed": false,
     "input": "",
     "language": "python",
     "metadata": {},
     "outputs": [],
     "prompt_number": 11
    },
    {
     "cell_type": "code",
     "collapsed": false,
     "input": "",
     "language": "python",
     "metadata": {},
     "outputs": [],
     "prompt_number": 11
    },
    {
     "cell_type": "code",
     "collapsed": false,
     "input": "",
     "language": "python",
     "metadata": {},
     "outputs": [],
     "prompt_number": 11
    }
   ],
   "metadata": {}
  }
 ]
}